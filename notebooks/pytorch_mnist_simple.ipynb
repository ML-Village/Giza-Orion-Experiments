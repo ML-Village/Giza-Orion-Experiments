{
  "nbformat": 4,
  "nbformat_minor": 0,
  "metadata": {
    "colab": {
      "provenance": []
    },
    "kernelspec": {
      "name": "python3",
      "display_name": "Python 3"
    },
    "language_info": {
      "name": "python"
    }
  },
  "cells": [
    {
      "cell_type": "markdown",
      "source": [
        "[![Open In Colab](https://colab.research.google.com/assets/colab-badge.svg)](https://colab.research.google.com/github/ML-Village/Giza-Orion-Experiments/blob/main/notebooks/pytorch-mnist-simple.ipynb)"
      ],
      "metadata": {
        "id": "JLfLqXMeoh-E"
      }
    },
    {
      "cell_type": "code",
      "source": [
        "#@title Installations and Setup\n",
        "\n",
        "#using setup of Giza tutorial\n",
        "!pip install onnx==1.14.1 torch==2.1.0 torchvision==0.16.0"
      ],
      "metadata": {
        "colab": {
          "base_uri": "https://localhost:8080/"
        },
        "cellView": "form",
        "id": "QnGkpJMxoYQ-",
        "outputId": "70475f1a-d78e-4ad1-e11e-2e75cd80acca"
      },
      "execution_count": 2,
      "outputs": [
        {
          "output_type": "stream",
          "name": "stdout",
          "text": [
            "Collecting onnx==1.14.1\n",
            "  Downloading onnx-1.14.1-cp310-cp310-manylinux_2_17_x86_64.manylinux2014_x86_64.whl (14.6 MB)\n",
            "\u001b[2K     \u001b[90m━━━━━━━━━━━━━━━━━━━━━━━━━━━━━━━━━━━━━━━━\u001b[0m \u001b[32m14.6/14.6 MB\u001b[0m \u001b[31m34.9 MB/s\u001b[0m eta \u001b[36m0:00:00\u001b[0m\n",
            "\u001b[?25hRequirement already satisfied: torch==2.1.0 in /usr/local/lib/python3.10/dist-packages (2.1.0+cu121)\n",
            "Requirement already satisfied: torchvision==0.16.0 in /usr/local/lib/python3.10/dist-packages (0.16.0+cu121)\n",
            "Requirement already satisfied: numpy in /usr/local/lib/python3.10/dist-packages (from onnx==1.14.1) (1.23.5)\n",
            "Requirement already satisfied: protobuf>=3.20.2 in /usr/local/lib/python3.10/dist-packages (from onnx==1.14.1) (3.20.3)\n",
            "Requirement already satisfied: typing-extensions>=3.6.2.1 in /usr/local/lib/python3.10/dist-packages (from onnx==1.14.1) (4.5.0)\n",
            "Requirement already satisfied: filelock in /usr/local/lib/python3.10/dist-packages (from torch==2.1.0) (3.13.1)\n",
            "Requirement already satisfied: sympy in /usr/local/lib/python3.10/dist-packages (from torch==2.1.0) (1.12)\n",
            "Requirement already satisfied: networkx in /usr/local/lib/python3.10/dist-packages (from torch==2.1.0) (3.2.1)\n",
            "Requirement already satisfied: jinja2 in /usr/local/lib/python3.10/dist-packages (from torch==2.1.0) (3.1.2)\n",
            "Requirement already satisfied: fsspec in /usr/local/lib/python3.10/dist-packages (from torch==2.1.0) (2023.6.0)\n",
            "Requirement already satisfied: triton==2.1.0 in /usr/local/lib/python3.10/dist-packages (from torch==2.1.0) (2.1.0)\n",
            "Requirement already satisfied: requests in /usr/local/lib/python3.10/dist-packages (from torchvision==0.16.0) (2.31.0)\n",
            "Requirement already satisfied: pillow!=8.3.*,>=5.3.0 in /usr/local/lib/python3.10/dist-packages (from torchvision==0.16.0) (9.4.0)\n",
            "Requirement already satisfied: MarkupSafe>=2.0 in /usr/local/lib/python3.10/dist-packages (from jinja2->torch==2.1.0) (2.1.3)\n",
            "Requirement already satisfied: charset-normalizer<4,>=2 in /usr/local/lib/python3.10/dist-packages (from requests->torchvision==0.16.0) (3.3.2)\n",
            "Requirement already satisfied: idna<4,>=2.5 in /usr/local/lib/python3.10/dist-packages (from requests->torchvision==0.16.0) (3.6)\n",
            "Requirement already satisfied: urllib3<3,>=1.21.1 in /usr/local/lib/python3.10/dist-packages (from requests->torchvision==0.16.0) (2.0.7)\n",
            "Requirement already satisfied: certifi>=2017.4.17 in /usr/local/lib/python3.10/dist-packages (from requests->torchvision==0.16.0) (2023.11.17)\n",
            "Requirement already satisfied: mpmath>=0.19 in /usr/local/lib/python3.10/dist-packages (from sympy->torch==2.1.0) (1.3.0)\n",
            "Installing collected packages: onnx\n",
            "Successfully installed onnx-1.14.1\n"
          ]
        }
      ]
    },
    {
      "cell_type": "code",
      "source": [
        "#@title Imports and Libs\n",
        "\n",
        "import torch\n",
        "import torchvision\n",
        "import torch.nn as nn\n",
        "import torch.nn.functional as F\n",
        "import torch.optim as optim\n",
        "\n",
        "import warnings\n",
        "warnings.filterwarnings(\"ignore\")"
      ],
      "metadata": {
        "cellView": "form",
        "id": "ijGN3adNpM73"
      },
      "execution_count": 3,
      "outputs": []
    },
    {
      "cell_type": "code",
      "source": [
        "#@title Param Inits\n",
        "\n",
        "learning_rate = 0.01\n",
        "momentum = 0.5\n",
        "log_interval = 10000\n",
        "\n",
        "random_seed = 1\n",
        "torch.backends.cudnn.enabled = False\n",
        "torch.manual_seed(random_seed)"
      ],
      "metadata": {
        "colab": {
          "base_uri": "https://localhost:8080/"
        },
        "cellView": "form",
        "id": "N1ptIe55pahc",
        "outputId": "d9175798-826d-4b4a-da70-83bdea655541"
      },
      "execution_count": 4,
      "outputs": [
        {
          "output_type": "execute_result",
          "data": {
            "text/plain": [
              "<torch._C.Generator at 0x7e68db52e730>"
            ]
          },
          "metadata": {},
          "execution_count": 4
        }
      ]
    },
    {
      "cell_type": "code",
      "source": [
        "#@title Data Loaders\n",
        "\n",
        "train_loader = torch.utils.data.DataLoader(\n",
        "  torchvision.datasets.MNIST('./', train=True, download=True,\n",
        "                             transform=torchvision.transforms.Compose([\n",
        "                               torchvision.transforms.ToTensor(),\n",
        "                               torchvision.transforms.Resize((14,14)),\n",
        "                                torchvision.transforms.Lambda(lambda x: torch.flatten(x)),\n",
        "                             ])), shuffle=True)\n",
        "\n",
        "test_loader = torch.utils.data.DataLoader(\n",
        "  torchvision.datasets.MNIST('./', train=False, download=True,\n",
        "                             transform=torchvision.transforms.Compose([\n",
        "                               torchvision.transforms.ToTensor(),\n",
        "                               torchvision.transforms.Resize((14,14)),\n",
        "                                torchvision.transforms.Lambda(lambda x: torch.flatten(x)),\n",
        "                             ])), shuffle=True)"
      ],
      "metadata": {
        "colab": {
          "base_uri": "https://localhost:8080/"
        },
        "cellView": "form",
        "id": "zjEwy1_PpjdC",
        "outputId": "89b03451-f80b-4901-9d6b-d3247eb503dd"
      },
      "execution_count": 5,
      "outputs": [
        {
          "output_type": "stream",
          "name": "stdout",
          "text": [
            "Downloading http://yann.lecun.com/exdb/mnist/train-images-idx3-ubyte.gz\n",
            "Downloading http://yann.lecun.com/exdb/mnist/train-images-idx3-ubyte.gz to ./MNIST/raw/train-images-idx3-ubyte.gz\n"
          ]
        },
        {
          "output_type": "stream",
          "name": "stderr",
          "text": [
            "100%|██████████| 9912422/9912422 [00:00<00:00, 114482233.17it/s]\n"
          ]
        },
        {
          "output_type": "stream",
          "name": "stdout",
          "text": [
            "Extracting ./MNIST/raw/train-images-idx3-ubyte.gz to ./MNIST/raw\n",
            "\n",
            "Downloading http://yann.lecun.com/exdb/mnist/train-labels-idx1-ubyte.gz\n",
            "Downloading http://yann.lecun.com/exdb/mnist/train-labels-idx1-ubyte.gz to ./MNIST/raw/train-labels-idx1-ubyte.gz\n"
          ]
        },
        {
          "output_type": "stream",
          "name": "stderr",
          "text": [
            "100%|██████████| 28881/28881 [00:00<00:00, 37937893.46it/s]\n"
          ]
        },
        {
          "output_type": "stream",
          "name": "stdout",
          "text": [
            "Extracting ./MNIST/raw/train-labels-idx1-ubyte.gz to ./MNIST/raw\n",
            "\n",
            "Downloading http://yann.lecun.com/exdb/mnist/t10k-images-idx3-ubyte.gz\n",
            "Downloading http://yann.lecun.com/exdb/mnist/t10k-images-idx3-ubyte.gz to ./MNIST/raw/t10k-images-idx3-ubyte.gz\n"
          ]
        },
        {
          "output_type": "stream",
          "name": "stderr",
          "text": [
            "100%|██████████| 1648877/1648877 [00:00<00:00, 31463901.46it/s]\n"
          ]
        },
        {
          "output_type": "stream",
          "name": "stdout",
          "text": [
            "Extracting ./MNIST/raw/t10k-images-idx3-ubyte.gz to ./MNIST/raw\n",
            "\n",
            "Downloading http://yann.lecun.com/exdb/mnist/t10k-labels-idx1-ubyte.gz\n",
            "Downloading http://yann.lecun.com/exdb/mnist/t10k-labels-idx1-ubyte.gz to ./MNIST/raw/t10k-labels-idx1-ubyte.gz\n"
          ]
        },
        {
          "output_type": "stream",
          "name": "stderr",
          "text": [
            "100%|██████████| 4542/4542 [00:00<00:00, 16049308.14it/s]\n"
          ]
        },
        {
          "output_type": "stream",
          "name": "stdout",
          "text": [
            "Extracting ./MNIST/raw/t10k-labels-idx1-ubyte.gz to ./MNIST/raw\n",
            "\n"
          ]
        }
      ]
    },
    {
      "cell_type": "code",
      "source": [
        "# check data\n",
        "examples = enumerate(test_loader)\n",
        "batch_idx, (example_data, example_targets) = next(examples)\n",
        "print(f\"example_data.shape: {example_data.shape}\")\n",
        "print(f\"example_targets.shape: {example_targets.shape}\")"
      ],
      "metadata": {
        "colab": {
          "base_uri": "https://localhost:8080/"
        },
        "id": "mbD0zk1Mqa5a",
        "outputId": "028848f5-4147-498a-ae95-024fb8220713"
      },
      "execution_count": 6,
      "outputs": [
        {
          "output_type": "stream",
          "name": "stdout",
          "text": [
            "example_data.shape: torch.Size([1, 196])\n",
            "example_targets.shape: torch.Size([1])\n"
          ]
        }
      ]
    },
    {
      "cell_type": "code",
      "source": [
        "#@title Model Architecture\n",
        "\n",
        "class Net(nn.Module):\n",
        "    def __init__(self):\n",
        "        super(Net, self).__init__()\n",
        "        self.fc1 = nn.Linear(196, 10)\n",
        "        self.fc2 = nn.Linear(10, 10)\n",
        "\n",
        "    def forward(self, x):\n",
        "        x = F.relu(self.fc1(x))\n",
        "        x = self.fc2(x)\n",
        "        return F.log_softmax(x, dim=1)"
      ],
      "metadata": {
        "cellView": "form",
        "id": "2l-0JMQxq1xJ"
      },
      "execution_count": 7,
      "outputs": []
    },
    {
      "cell_type": "code",
      "source": [
        "#@title Ze Model\n",
        "network = Net()\n",
        "optimizer = optim.SGD(network.parameters(), lr=learning_rate,\n",
        "                      momentum=momentum)"
      ],
      "metadata": {
        "cellView": "form",
        "id": "G51o_ktmq_VM"
      },
      "execution_count": 8,
      "outputs": []
    },
    {
      "cell_type": "code",
      "source": [
        "#@title Training Routine\n",
        "\n",
        "train_losses = []\n",
        "train_counter = []\n",
        "\n",
        "def train(epoch):\n",
        "  network.train()\n",
        "  for batch_idx, (data, target) in enumerate(train_loader):\n",
        "    optimizer.zero_grad()\n",
        "    output = network(data)\n",
        "    loss = F.nll_loss(output, target)\n",
        "    loss.backward()\n",
        "    optimizer.step()\n",
        "    if batch_idx % log_interval == 0:\n",
        "      print('Train Epoch: {} [{}/{} ({:.0f}%)]\\tLoss: {:.6f}'.format(\n",
        "        epoch, batch_idx * len(data), len(train_loader.dataset),\n",
        "        100. * batch_idx / len(train_loader), loss.item()))\n",
        "      train_losses.append(loss.item())\n",
        "      train_counter.append(\n",
        "        (batch_idx*64) + ((epoch-1)*len(train_loader.dataset)))"
      ],
      "metadata": {
        "cellView": "form",
        "id": "NubjrmPPrDy7"
      },
      "execution_count": 9,
      "outputs": []
    },
    {
      "cell_type": "code",
      "source": [
        "#@title Start Train\n",
        "for i in range(10):\n",
        "    train(i)"
      ],
      "metadata": {
        "colab": {
          "base_uri": "https://localhost:8080/"
        },
        "id": "QEtA4xRArKg2",
        "outputId": "edb697c5-7ad2-481b-9cd2-5c5d352bfe6e"
      },
      "execution_count": 10,
      "outputs": [
        {
          "output_type": "stream",
          "name": "stdout",
          "text": [
            "Train Epoch: 0 [0/60000 (0%)]\tLoss: 2.143008\n",
            "Train Epoch: 0 [10000/60000 (17%)]\tLoss: 0.013687\n",
            "Train Epoch: 0 [20000/60000 (33%)]\tLoss: 0.142858\n",
            "Train Epoch: 0 [30000/60000 (50%)]\tLoss: 0.171771\n",
            "Train Epoch: 0 [40000/60000 (67%)]\tLoss: 4.330003\n",
            "Train Epoch: 0 [50000/60000 (83%)]\tLoss: 0.002654\n",
            "Train Epoch: 1 [0/60000 (0%)]\tLoss: 0.035651\n",
            "Train Epoch: 1 [10000/60000 (17%)]\tLoss: 0.002056\n",
            "Train Epoch: 1 [20000/60000 (33%)]\tLoss: 0.046558\n",
            "Train Epoch: 1 [30000/60000 (50%)]\tLoss: 0.013240\n",
            "Train Epoch: 1 [40000/60000 (67%)]\tLoss: 0.054755\n",
            "Train Epoch: 1 [50000/60000 (83%)]\tLoss: 0.264867\n",
            "Train Epoch: 2 [0/60000 (0%)]\tLoss: 0.116307\n",
            "Train Epoch: 2 [10000/60000 (17%)]\tLoss: 0.006561\n",
            "Train Epoch: 2 [20000/60000 (33%)]\tLoss: 2.750954\n",
            "Train Epoch: 2 [30000/60000 (50%)]\tLoss: 0.000641\n",
            "Train Epoch: 2 [40000/60000 (67%)]\tLoss: 0.001984\n",
            "Train Epoch: 2 [50000/60000 (83%)]\tLoss: 0.000069\n",
            "Train Epoch: 3 [0/60000 (0%)]\tLoss: 0.010279\n",
            "Train Epoch: 3 [10000/60000 (17%)]\tLoss: 0.000068\n",
            "Train Epoch: 3 [20000/60000 (33%)]\tLoss: 0.007274\n",
            "Train Epoch: 3 [30000/60000 (50%)]\tLoss: 0.000202\n",
            "Train Epoch: 3 [40000/60000 (67%)]\tLoss: 0.001901\n",
            "Train Epoch: 3 [50000/60000 (83%)]\tLoss: 0.011817\n",
            "Train Epoch: 4 [0/60000 (0%)]\tLoss: 0.026695\n",
            "Train Epoch: 4 [10000/60000 (17%)]\tLoss: 0.000018\n",
            "Train Epoch: 4 [20000/60000 (33%)]\tLoss: 0.087963\n",
            "Train Epoch: 4 [30000/60000 (50%)]\tLoss: 0.017164\n",
            "Train Epoch: 4 [40000/60000 (67%)]\tLoss: 0.010012\n",
            "Train Epoch: 4 [50000/60000 (83%)]\tLoss: 0.000132\n",
            "Train Epoch: 5 [0/60000 (0%)]\tLoss: 0.000029\n",
            "Train Epoch: 5 [10000/60000 (17%)]\tLoss: 0.061886\n",
            "Train Epoch: 5 [20000/60000 (33%)]\tLoss: 0.000262\n",
            "Train Epoch: 5 [30000/60000 (50%)]\tLoss: 0.003394\n",
            "Train Epoch: 5 [40000/60000 (67%)]\tLoss: 0.006318\n",
            "Train Epoch: 5 [50000/60000 (83%)]\tLoss: 0.000012\n",
            "Train Epoch: 6 [0/60000 (0%)]\tLoss: 0.000054\n",
            "Train Epoch: 6 [10000/60000 (17%)]\tLoss: 0.000886\n",
            "Train Epoch: 6 [20000/60000 (33%)]\tLoss: 0.000007\n",
            "Train Epoch: 6 [30000/60000 (50%)]\tLoss: 0.000427\n",
            "Train Epoch: 6 [40000/60000 (67%)]\tLoss: 0.339226\n",
            "Train Epoch: 6 [50000/60000 (83%)]\tLoss: 0.000128\n",
            "Train Epoch: 7 [0/60000 (0%)]\tLoss: 0.091982\n",
            "Train Epoch: 7 [10000/60000 (17%)]\tLoss: 0.040187\n",
            "Train Epoch: 7 [20000/60000 (33%)]\tLoss: 0.936581\n",
            "Train Epoch: 7 [30000/60000 (50%)]\tLoss: 0.003259\n",
            "Train Epoch: 7 [40000/60000 (67%)]\tLoss: 0.012328\n",
            "Train Epoch: 7 [50000/60000 (83%)]\tLoss: 0.000088\n",
            "Train Epoch: 8 [0/60000 (0%)]\tLoss: 0.001890\n",
            "Train Epoch: 8 [10000/60000 (17%)]\tLoss: 0.018773\n",
            "Train Epoch: 8 [20000/60000 (33%)]\tLoss: 0.000000\n",
            "Train Epoch: 8 [30000/60000 (50%)]\tLoss: 0.000001\n",
            "Train Epoch: 8 [40000/60000 (67%)]\tLoss: 0.103826\n",
            "Train Epoch: 8 [50000/60000 (83%)]\tLoss: 0.016198\n",
            "Train Epoch: 9 [0/60000 (0%)]\tLoss: 0.000028\n",
            "Train Epoch: 9 [10000/60000 (17%)]\tLoss: 0.000041\n",
            "Train Epoch: 9 [20000/60000 (33%)]\tLoss: 0.025467\n",
            "Train Epoch: 9 [30000/60000 (50%)]\tLoss: 0.000639\n",
            "Train Epoch: 9 [40000/60000 (67%)]\tLoss: 0.004122\n",
            "Train Epoch: 9 [50000/60000 (83%)]\tLoss: 0.000008\n"
          ]
        }
      ]
    },
    {
      "cell_type": "code",
      "source": [
        "#@title Simple Sample Test\n",
        "network.eval()\n",
        "\n",
        "with torch.no_grad():\n",
        "    pred = network(example_data)\n",
        "print(f\"Prediction: {pred.argmax()}\")\n",
        "print(f\"Real Value: {example_targets.item()}\")\n"
      ],
      "metadata": {
        "colab": {
          "base_uri": "https://localhost:8080/"
        },
        "id": "dX1wmQdJr6zm",
        "outputId": "9198813e-0ac0-47b2-d1b8-5628f1484005"
      },
      "execution_count": 11,
      "outputs": [
        {
          "output_type": "stream",
          "name": "stdout",
          "text": [
            "Prediction: 3\n",
            "Real Value: 3\n"
          ]
        }
      ]
    },
    {
      "cell_type": "code",
      "source": [
        "#@title Model Export\n",
        "torch.onnx.export(network, example_data, \"giza_mnist_pytorch.onnx\") #ensure in eval mode"
      ],
      "metadata": {
        "id": "r1jpYw7QsPqL"
      },
      "execution_count": 12,
      "outputs": []
    }
  ]
}