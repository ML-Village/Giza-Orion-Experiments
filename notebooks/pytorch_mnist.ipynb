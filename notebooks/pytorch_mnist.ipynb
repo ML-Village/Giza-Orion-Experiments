{
  "cells": [
    {
      "cell_type": "markdown",
      "source": [
        "[![Open In Colab](https://colab.research.google.com/assets/colab-badge.svg)](https://colab.research.google.com/github/ML-Village/Giza-Orion-Experiments/blob/main/notebooks/pytorch-mnist.ipynb)"
      ],
      "metadata": {
        "id": "coEiX1Nmjo-L"
      }
    },
    {
      "cell_type": "code",
      "source": [
        "#@title Install libs\n",
        "!pip install torch torchvision"
      ],
      "metadata": {
        "cellView": "form",
        "id": "MyNsAl9FjS9z",
        "outputId": "a2d3c9aa-befb-4b5e-dca6-99b215ccbf66",
        "colab": {
          "base_uri": "https://localhost:8080/"
        }
      },
      "execution_count": 1,
      "outputs": [
        {
          "output_type": "stream",
          "name": "stdout",
          "text": [
            "Requirement already satisfied: torch in /usr/local/lib/python3.10/dist-packages (2.1.0+cu121)\n",
            "Requirement already satisfied: torchvision in /usr/local/lib/python3.10/dist-packages (0.16.0+cu121)\n",
            "Requirement already satisfied: filelock in /usr/local/lib/python3.10/dist-packages (from torch) (3.13.1)\n",
            "Requirement already satisfied: typing-extensions in /usr/local/lib/python3.10/dist-packages (from torch) (4.5.0)\n",
            "Requirement already satisfied: sympy in /usr/local/lib/python3.10/dist-packages (from torch) (1.12)\n",
            "Requirement already satisfied: networkx in /usr/local/lib/python3.10/dist-packages (from torch) (3.2.1)\n",
            "Requirement already satisfied: jinja2 in /usr/local/lib/python3.10/dist-packages (from torch) (3.1.2)\n",
            "Requirement already satisfied: fsspec in /usr/local/lib/python3.10/dist-packages (from torch) (2023.6.0)\n",
            "Requirement already satisfied: triton==2.1.0 in /usr/local/lib/python3.10/dist-packages (from torch) (2.1.0)\n",
            "Requirement already satisfied: numpy in /usr/local/lib/python3.10/dist-packages (from torchvision) (1.23.5)\n",
            "Requirement already satisfied: requests in /usr/local/lib/python3.10/dist-packages (from torchvision) (2.31.0)\n",
            "Requirement already satisfied: pillow!=8.3.*,>=5.3.0 in /usr/local/lib/python3.10/dist-packages (from torchvision) (9.4.0)\n",
            "Requirement already satisfied: MarkupSafe>=2.0 in /usr/local/lib/python3.10/dist-packages (from jinja2->torch) (2.1.3)\n",
            "Requirement already satisfied: charset-normalizer<4,>=2 in /usr/local/lib/python3.10/dist-packages (from requests->torchvision) (3.3.2)\n",
            "Requirement already satisfied: idna<4,>=2.5 in /usr/local/lib/python3.10/dist-packages (from requests->torchvision) (3.6)\n",
            "Requirement already satisfied: urllib3<3,>=1.21.1 in /usr/local/lib/python3.10/dist-packages (from requests->torchvision) (2.0.7)\n",
            "Requirement already satisfied: certifi>=2017.4.17 in /usr/local/lib/python3.10/dist-packages (from requests->torchvision) (2023.11.17)\n",
            "Requirement already satisfied: mpmath>=0.19 in /usr/local/lib/python3.10/dist-packages (from sympy->torch) (1.3.0)\n"
          ]
        }
      ]
    },
    {
      "cell_type": "code",
      "execution_count": 2,
      "metadata": {
        "id": "zUcmCwIWigNk",
        "outputId": "55ef7836-4b41-416c-8371-e247e2e6c035",
        "colab": {
          "base_uri": "https://localhost:8080/"
        }
      },
      "outputs": [
        {
          "output_type": "stream",
          "name": "stdout",
          "text": [
            "Python 3.10.12\n"
          ]
        }
      ],
      "source": [
        "!python --version"
      ]
    },
    {
      "cell_type": "code",
      "source": [
        "#@title Import Dependencies\n",
        "from __future__ import print_function\n",
        "import argparse\n",
        "import torch\n",
        "import torch.nn as nn\n",
        "import torch.nn.functional as F\n",
        "import torch.optim as optim\n",
        "from torchvision import datasets, transforms\n",
        "from torch.autograd import Variable"
      ],
      "metadata": {
        "cellView": "form",
        "id": "ynnzkMg5m9s0"
      },
      "execution_count": 8,
      "outputs": []
    },
    {
      "cell_type": "code",
      "source": [
        "torch.__version__"
      ],
      "metadata": {
        "id": "r0Bbi-SvoXcg",
        "outputId": "30509086-c764-4a11-bcb1-5d446b96cb1f",
        "colab": {
          "base_uri": "https://localhost:8080/",
          "height": 35
        }
      },
      "execution_count": 11,
      "outputs": [
        {
          "output_type": "execute_result",
          "data": {
            "text/plain": [
              "'2.1.0+cu121'"
            ],
            "application/vnd.google.colaboratory.intrinsic+json": {
              "type": "string"
            }
          },
          "metadata": {},
          "execution_count": 11
        }
      ]
    },
    {
      "cell_type": "code",
      "source": [
        "#@title Set ze Params\n",
        "\n",
        "args={}\n",
        "kwargs={}\n",
        "args['batch_size']=1000\n",
        "args['test_batch_size']=1000\n",
        "args['epochs']=10  #The number of Epochs is the number of times you go through the full dataset.\n",
        "args['lr']=0.01 #Learning rate is how fast it will decend.\n",
        "args['momentum']=0.5 #SGD momentum (default: 0.5) Momentum is a moving average of our gradients (helps to keep direction).\n",
        "\n",
        "args['seed']=1 #random seed\n",
        "args['log_interval']=10\n",
        "args['cuda']=False\n",
        "\n",
        "#vs\n",
        "# input_size = 784 # img_size = (28,28) ---> 28*28=784 in total\n",
        "# hidden_size = 500 # number of nodes at hidden layer\n",
        "# num_classes = 10 # number of output classes discrete range [0,9]\n",
        "# num_epochs = 20 # number of times which the entire dataset is passed throughout the model\n",
        "# batch_size = 100 # the size of input data took for one iteration\n",
        "# lr = 1e-3 # size of step"
      ],
      "metadata": {
        "cellView": "form",
        "id": "3BTqoSWAoYbL"
      },
      "execution_count": 13,
      "outputs": []
    },
    {
      "cell_type": "code",
      "source": [
        "#@title Load ze data\n",
        "\n",
        "train_loader = torch.utils.data.DataLoader(\n",
        "\n",
        "    # downloads training set\n",
        "    datasets.MNIST('../data', train=True, download=True,\n",
        "                   transform=transforms.Compose([\n",
        "                       transforms.ToTensor(),\n",
        "                       transforms.Normalize((0.1307,), (0.3081,)) #normalizing\n",
        "                   ])),\n",
        "\n",
        "    batch_size=args['batch_size'], shuffle=True, **kwargs)\n",
        "\n",
        "test_loader = torch.utils.data.DataLoader(\n",
        "\n",
        "    # downloads test set\n",
        "    datasets.MNIST('../data', train=False, transform=transforms.Compose([\n",
        "                       transforms.ToTensor(),\n",
        "                       transforms.Normalize((0.1307,), (0.3081,)) #normalizing\n",
        "                   ])),\n",
        "\n",
        "\n",
        "    batch_size=args['test_batch_size'], shuffle=True, **kwargs)"
      ],
      "metadata": {
        "id": "YvvxkxtapDw9"
      },
      "execution_count": 15,
      "outputs": []
    },
    {
      "cell_type": "code",
      "source": [
        "#@title Define ze ModeL\n",
        "\n",
        "class Net(nn.Module):\n",
        "    #This defines the structure of the NN.\n",
        "    def __init__(self):\n",
        "        super(Net, self).__init__()\n",
        "        self.conv1 = nn.Conv2d(1, 10, kernel_size=5)\n",
        "        self.conv2 = nn.Conv2d(10, 20, kernel_size=5)\n",
        "        self.conv2_drop = nn.Dropout2d()  #Dropout\n",
        "        self.fc1 = nn.Linear(320, 50)\n",
        "        self.fc2 = nn.Linear(50, 10)\n",
        "\n",
        "    def forward(self, x):\n",
        "        #Convolutional Layer/Pooling Layer/Activation\n",
        "        x = F.relu(F.max_pool2d(self.conv1(x), 2))\n",
        "        #Convolutional Layer/Dropout/Pooling Layer/Activation\n",
        "        x = F.relu(F.max_pool2d(self.conv2_drop(self.conv2(x)), 2))\n",
        "        x = x.view(-1, 320)\n",
        "        #Fully Connected Layer/Activation\n",
        "        x = F.relu(self.fc1(x))\n",
        "        x = F.dropout(x, training=self.training)\n",
        "        #Fully Connected Layer/Activation\n",
        "        x = self.fc2(x)\n",
        "        #Softmax gets probabilities.\n",
        "        return F.log_softmax(x, dim=1)\n",
        "\n",
        "# class Net(nn.Module):\n",
        "#   def __init__(self, input_size, hidden_size, num_classes):\n",
        "#     super(Net,self).__init__()\n",
        "#     self.fc1 = nn.Linear(input_size, hidden_size)\n",
        "#     self.relu = nn.ReLU()\n",
        "#     self.fc2 = nn.Linear(hidden_size, num_classes)\n",
        "\n",
        "#   def forward(self,x):\n",
        "#     out = self.fc1(x)\n",
        "#     out = self.relu(out)\n",
        "#     out = self.fc2(out)\n",
        "#     return out"
      ],
      "metadata": {
        "cellView": "form",
        "id": "YTb9nnZypGBA"
      },
      "execution_count": 16,
      "outputs": []
    },
    {
      "cell_type": "code",
      "source": [
        "#@title Define training routine/flow\n",
        "\n",
        "def train(epoch):\n",
        "    model.train()\n",
        "    for batch_idx, (data, target) in enumerate(train_loader):\n",
        "        if args['cuda']:\n",
        "            data, target = data.cuda(), target.cuda()\n",
        "        #Variables in Pytorch are differenciable.\n",
        "        data, target = Variable(data), Variable(target)\n",
        "        #This will zero out the gradients for this batch.\n",
        "        optimizer.zero_grad()\n",
        "        output = model(data)\n",
        "        # Calculate the loss The negative log likelihood loss. It is useful to train a classification problem with C classes.\n",
        "        loss = F.nll_loss(output, target)\n",
        "        #dloss/dx for every Variable\n",
        "        loss.backward()\n",
        "        #to do a one-step update on our parameter.\n",
        "        optimizer.step()\n",
        "        #Print out the loss periodically.\n",
        "        if batch_idx % args['log_interval'] == 0:\n",
        "            print('Train Epoch: {} [{}/{} ({:.0f}%)]\\tLoss: {:.6f}'.format(\n",
        "                epoch, batch_idx * len(data), len(train_loader.dataset),\n",
        "                100. * batch_idx / len(train_loader), loss.data))\n",
        "\n",
        "def test():\n",
        "    model.eval()\n",
        "    test_loss = 0\n",
        "    correct = 0\n",
        "    for data, target in test_loader:\n",
        "        if args['cuda']:\n",
        "            data, target = data.cuda(), target.cuda()\n",
        "        data, target = Variable(data, volatile=True), Variable(target)\n",
        "        output = model(data)\n",
        "        test_loss += F.nll_loss(output, target, size_average=False).data # sum up batch loss\n",
        "        pred = output.data.max(1, keepdim=True)[1] # get the index of the max log-probability\n",
        "        correct += pred.eq(target.data.view_as(pred)).long().cpu().sum()\n",
        "\n",
        "    test_loss /= len(test_loader.dataset)\n",
        "    print('\\nTest set: Average loss: {:.4f}, Accuracy: {}/{} ({:.0f}%)\\n'.format(\n",
        "        test_loss, correct, len(test_loader.dataset),\n",
        "        100. * correct / len(test_loader.dataset)))"
      ],
      "metadata": {
        "id": "Eee9-624umAl"
      },
      "execution_count": 24,
      "outputs": []
    },
    {
      "cell_type": "code",
      "source": [
        "#@title Train ze Model\n",
        "model = Net()\n",
        "\n",
        "if args['cuda']:\n",
        "    model.cuda()\n",
        "\n",
        "optimizer = optim.SGD(model.parameters(), lr=args['lr'], momentum=args['momentum'])\n",
        "# loss_function = nn.CrossEntropyLoss()\n",
        "# optimizer = torch.optim.Adam( net.parameters(), lr=lr)\n",
        "\n",
        "for epoch in range(1, args['epochs'] + 1):\n",
        "    train(epoch)\n",
        "    test()"
      ],
      "metadata": {
        "id": "cLdTStaJuvr2",
        "outputId": "2802e05a-2f4f-4acb-b6a4-fcab62b96139",
        "colab": {
          "base_uri": "https://localhost:8080/"
        }
      },
      "execution_count": 25,
      "outputs": [
        {
          "output_type": "stream",
          "name": "stdout",
          "text": [
            "Train Epoch: 1 [0/60000 (0%)]\tLoss: 2.318971\n",
            "Train Epoch: 1 [10000/60000 (17%)]\tLoss: 2.305999\n",
            "Train Epoch: 1 [20000/60000 (33%)]\tLoss: 2.290581\n",
            "Train Epoch: 1 [30000/60000 (50%)]\tLoss: 2.290898\n",
            "Train Epoch: 1 [40000/60000 (67%)]\tLoss: 2.280602\n",
            "Train Epoch: 1 [50000/60000 (83%)]\tLoss: 2.278978\n"
          ]
        },
        {
          "output_type": "stream",
          "name": "stderr",
          "text": [
            "<ipython-input-24-c021442c44eb>:32: UserWarning: volatile was removed and now has no effect. Use `with torch.no_grad():` instead.\n",
            "  data, target = Variable(data, volatile=True), Variable(target)\n"
          ]
        },
        {
          "output_type": "stream",
          "name": "stdout",
          "text": [
            "\n",
            "Test set: Average loss: 2.2560, Accuracy: 2156/10000 (22%)\n",
            "\n",
            "Train Epoch: 2 [0/60000 (0%)]\tLoss: 2.266870\n",
            "Train Epoch: 2 [10000/60000 (17%)]\tLoss: 2.249291\n",
            "Train Epoch: 2 [20000/60000 (33%)]\tLoss: 2.246460\n",
            "Train Epoch: 2 [30000/60000 (50%)]\tLoss: 2.224019\n",
            "Train Epoch: 2 [40000/60000 (67%)]\tLoss: 2.194281\n",
            "Train Epoch: 2 [50000/60000 (83%)]\tLoss: 2.163766\n",
            "\n",
            "Test set: Average loss: 2.0671, Accuracy: 5482/10000 (55%)\n",
            "\n",
            "Train Epoch: 3 [0/60000 (0%)]\tLoss: 2.130990\n",
            "Train Epoch: 3 [10000/60000 (17%)]\tLoss: 2.068974\n",
            "Train Epoch: 3 [20000/60000 (33%)]\tLoss: 1.990030\n",
            "Train Epoch: 3 [30000/60000 (50%)]\tLoss: 1.875356\n",
            "Train Epoch: 3 [40000/60000 (67%)]\tLoss: 1.770804\n",
            "Train Epoch: 3 [50000/60000 (83%)]\tLoss: 1.652321\n",
            "\n",
            "Test set: Average loss: 1.2439, Accuracy: 7438/10000 (74%)\n",
            "\n",
            "Train Epoch: 4 [0/60000 (0%)]\tLoss: 1.602181\n",
            "Train Epoch: 4 [10000/60000 (17%)]\tLoss: 1.469216\n",
            "Train Epoch: 4 [20000/60000 (33%)]\tLoss: 1.360229\n",
            "Train Epoch: 4 [30000/60000 (50%)]\tLoss: 1.275462\n",
            "Train Epoch: 4 [40000/60000 (67%)]\tLoss: 1.184007\n",
            "Train Epoch: 4 [50000/60000 (83%)]\tLoss: 1.137045\n",
            "\n",
            "Test set: Average loss: 0.6962, Accuracy: 8236/10000 (82%)\n",
            "\n",
            "Train Epoch: 5 [0/60000 (0%)]\tLoss: 1.068932\n",
            "Train Epoch: 5 [10000/60000 (17%)]\tLoss: 1.062231\n",
            "Train Epoch: 5 [20000/60000 (33%)]\tLoss: 1.018937\n",
            "Train Epoch: 5 [30000/60000 (50%)]\tLoss: 0.978325\n",
            "Train Epoch: 5 [40000/60000 (67%)]\tLoss: 0.944085\n",
            "Train Epoch: 5 [50000/60000 (83%)]\tLoss: 0.941622\n",
            "\n",
            "Test set: Average loss: 0.4920, Accuracy: 8659/10000 (87%)\n",
            "\n",
            "Train Epoch: 6 [0/60000 (0%)]\tLoss: 0.847948\n",
            "Train Epoch: 6 [10000/60000 (17%)]\tLoss: 0.835290\n",
            "Train Epoch: 6 [20000/60000 (33%)]\tLoss: 0.860660\n",
            "Train Epoch: 6 [30000/60000 (50%)]\tLoss: 0.793282\n",
            "Train Epoch: 6 [40000/60000 (67%)]\tLoss: 0.784964\n",
            "Train Epoch: 6 [50000/60000 (83%)]\tLoss: 0.786827\n",
            "\n",
            "Test set: Average loss: 0.3894, Accuracy: 8872/10000 (89%)\n",
            "\n",
            "Train Epoch: 7 [0/60000 (0%)]\tLoss: 0.740118\n",
            "Train Epoch: 7 [10000/60000 (17%)]\tLoss: 0.713478\n",
            "Train Epoch: 7 [20000/60000 (33%)]\tLoss: 0.722843\n",
            "Train Epoch: 7 [30000/60000 (50%)]\tLoss: 0.647639\n",
            "Train Epoch: 7 [40000/60000 (67%)]\tLoss: 0.704083\n",
            "Train Epoch: 7 [50000/60000 (83%)]\tLoss: 0.628785\n",
            "\n",
            "Test set: Average loss: 0.3358, Accuracy: 9067/10000 (91%)\n",
            "\n",
            "Train Epoch: 8 [0/60000 (0%)]\tLoss: 0.744239\n",
            "Train Epoch: 8 [10000/60000 (17%)]\tLoss: 0.695107\n",
            "Train Epoch: 8 [20000/60000 (33%)]\tLoss: 0.625172\n",
            "Train Epoch: 8 [30000/60000 (50%)]\tLoss: 0.609210\n",
            "Train Epoch: 8 [40000/60000 (67%)]\tLoss: 0.570063\n",
            "Train Epoch: 8 [50000/60000 (83%)]\tLoss: 0.627601\n",
            "\n",
            "Test set: Average loss: 0.2981, Accuracy: 9142/10000 (91%)\n",
            "\n",
            "Train Epoch: 9 [0/60000 (0%)]\tLoss: 0.611208\n",
            "Train Epoch: 9 [10000/60000 (17%)]\tLoss: 0.587489\n",
            "Train Epoch: 9 [20000/60000 (33%)]\tLoss: 0.588941\n",
            "Train Epoch: 9 [30000/60000 (50%)]\tLoss: 0.575271\n",
            "Train Epoch: 9 [40000/60000 (67%)]\tLoss: 0.595279\n",
            "Train Epoch: 9 [50000/60000 (83%)]\tLoss: 0.595535\n",
            "\n",
            "Test set: Average loss: 0.2610, Accuracy: 9265/10000 (93%)\n",
            "\n",
            "Train Epoch: 10 [0/60000 (0%)]\tLoss: 0.597623\n",
            "Train Epoch: 10 [10000/60000 (17%)]\tLoss: 0.597750\n",
            "Train Epoch: 10 [20000/60000 (33%)]\tLoss: 0.538900\n",
            "Train Epoch: 10 [30000/60000 (50%)]\tLoss: 0.563216\n",
            "Train Epoch: 10 [40000/60000 (67%)]\tLoss: 0.525131\n",
            "Train Epoch: 10 [50000/60000 (83%)]\tLoss: 0.502998\n",
            "\n",
            "Test set: Average loss: 0.2401, Accuracy: 9331/10000 (93%)\n",
            "\n"
          ]
        }
      ]
    },
    {
      "cell_type": "code",
      "source": [
        "#@title Evaluating the accuracy of the model\n",
        "\n",
        "correct = 0\n",
        "total = 0\n",
        "for batch_idx, (images, labels) in enumerate(test_loader):\n",
        "    if args['cuda']:\n",
        "        images, labels = images.cuda(), labels.cuda()\n",
        "    #Variables in Pytorch are differenciable.\n",
        "    images, labels = Variable(images), Variable(labels)\n",
        "\n",
        "    output = model(images)\n",
        "    #_, predicted = torch.max(output,1)\n",
        "    predicted =output.data.max(1, keepdim=True)[1]\n",
        "    # correct += (predicted == labels).sum()\n",
        "    correct += predicted.eq(labels.data.view_as(predicted)).long().cpu().sum()\n",
        "\n",
        "    total += labels.size(0)\n",
        "\n",
        "print('Accuracy of the model: %.3f %%' %((100*correct)/(total+1)))"
      ],
      "metadata": {
        "id": "k_Dyf3xKveIC"
      },
      "execution_count": null,
      "outputs": []
    },
    {
      "cell_type": "code",
      "source": [
        "torch.save(model.state_dict(), 'checkpoint.pth')"
      ],
      "metadata": {
        "id": "778B5dBdBuXF"
      },
      "execution_count": 29,
      "outputs": []
    },
    {
      "cell_type": "code",
      "source": [
        "#@title Save MoDEL\n",
        "\n",
        "# upload external file before import\n",
        "from google.colab import files\n",
        "\n",
        "# download checkpoint file\n",
        "files.download('checkpoint.pth')"
      ],
      "metadata": {
        "id": "oDXNelsqCELK",
        "outputId": "e55a728e-88d7-4860-eb4d-1db4ef35f96e",
        "colab": {
          "base_uri": "https://localhost:8080/",
          "height": 17
        }
      },
      "execution_count": 30,
      "outputs": [
        {
          "output_type": "display_data",
          "data": {
            "text/plain": [
              "<IPython.core.display.Javascript object>"
            ],
            "application/javascript": [
              "\n",
              "    async function download(id, filename, size) {\n",
              "      if (!google.colab.kernel.accessAllowed) {\n",
              "        return;\n",
              "      }\n",
              "      const div = document.createElement('div');\n",
              "      const label = document.createElement('label');\n",
              "      label.textContent = `Downloading \"${filename}\": `;\n",
              "      div.appendChild(label);\n",
              "      const progress = document.createElement('progress');\n",
              "      progress.max = size;\n",
              "      div.appendChild(progress);\n",
              "      document.body.appendChild(div);\n",
              "\n",
              "      const buffers = [];\n",
              "      let downloaded = 0;\n",
              "\n",
              "      const channel = await google.colab.kernel.comms.open(id);\n",
              "      // Send a message to notify the kernel that we're ready.\n",
              "      channel.send({})\n",
              "\n",
              "      for await (const message of channel.messages) {\n",
              "        // Send a message to notify the kernel that we're ready.\n",
              "        channel.send({})\n",
              "        if (message.buffers) {\n",
              "          for (const buffer of message.buffers) {\n",
              "            buffers.push(buffer);\n",
              "            downloaded += buffer.byteLength;\n",
              "            progress.value = downloaded;\n",
              "          }\n",
              "        }\n",
              "      }\n",
              "      const blob = new Blob(buffers, {type: 'application/binary'});\n",
              "      const a = document.createElement('a');\n",
              "      a.href = window.URL.createObjectURL(blob);\n",
              "      a.download = filename;\n",
              "      div.appendChild(a);\n",
              "      a.click();\n",
              "      div.remove();\n",
              "    }\n",
              "  "
            ]
          },
          "metadata": {}
        },
        {
          "output_type": "display_data",
          "data": {
            "text/plain": [
              "<IPython.core.display.Javascript object>"
            ],
            "application/javascript": [
              "download(\"download_81b149f4-ec40-4fbd-93a2-d9b671cf7c25\", \"checkpoint.pth\", 90404)"
            ]
          },
          "metadata": {}
        }
      ]
    },
    {
      "cell_type": "code",
      "source": [
        "#@title Export to ze Onnx MoDEL\n",
        "!pip install onnx onnxscript"
      ],
      "metadata": {
        "id": "z9F3hLz2DxB1",
        "outputId": "e988e64e-e91f-440c-ae15-bef6893e3fd3",
        "colab": {
          "base_uri": "https://localhost:8080/"
        }
      },
      "execution_count": 37,
      "outputs": [
        {
          "output_type": "stream",
          "name": "stdout",
          "text": [
            "Requirement already satisfied: onnx in /usr/local/lib/python3.10/dist-packages (1.15.0)\n",
            "Collecting onnxscript\n",
            "  Downloading onnxscript-0.1.0.dev20231222-py3-none-any.whl (550 kB)\n",
            "\u001b[2K     \u001b[90m━━━━━━━━━━━━━━━━━━━━━━━━━━━━━━━━━━━━━━━━\u001b[0m \u001b[32m550.7/550.7 kB\u001b[0m \u001b[31m5.8 MB/s\u001b[0m eta \u001b[36m0:00:00\u001b[0m\n",
            "\u001b[?25hRequirement already satisfied: numpy in /usr/local/lib/python3.10/dist-packages (from onnx) (1.23.5)\n",
            "Requirement already satisfied: protobuf>=3.20.2 in /usr/local/lib/python3.10/dist-packages (from onnx) (3.20.3)\n",
            "Requirement already satisfied: typing-extensions in /usr/local/lib/python3.10/dist-packages (from onnxscript) (4.5.0)\n",
            "Installing collected packages: onnxscript\n",
            "Successfully installed onnxscript-0.1.0.dev20231222\n"
          ]
        }
      ]
    },
    {
      "cell_type": "code",
      "source": [
        "inputs, classes = next(iter(test_loader))"
      ],
      "metadata": {
        "id": "vCnkcdkXEFsw"
      },
      "execution_count": 38,
      "outputs": []
    },
    {
      "cell_type": "code",
      "source": [
        "onnx_program = torch.onnx.dynamo_export(model, inputs)"
      ],
      "metadata": {
        "id": "qUhZ75ITD0dL",
        "outputId": "24420335-2ef2-4e9e-c3d4-14a74399d8a9",
        "colab": {
          "base_uri": "https://localhost:8080/"
        }
      },
      "execution_count": 39,
      "outputs": [
        {
          "output_type": "stream",
          "name": "stderr",
          "text": [
            "/usr/local/lib/python3.10/dist-packages/torch/onnx/_internal/exporter.py:130: UserWarning: torch.onnx.dynamo_export only implements opset version 18 for now. If you need to use a different opset version, please register them with register_custom_op.\n",
            "  warnings.warn(\n"
          ]
        }
      ]
    },
    {
      "cell_type": "code",
      "source": [
        "onnx_program.save(\"mnisttorch.onnx\")\n",
        "# download onnx file\n",
        "files.download('mnisttorch.onnx')"
      ],
      "metadata": {
        "id": "BkxNV87FEdUQ",
        "outputId": "d571827f-9a1a-4508-afa0-6b9a17ba2b41",
        "colab": {
          "base_uri": "https://localhost:8080/",
          "height": 17
        }
      },
      "execution_count": 41,
      "outputs": [
        {
          "output_type": "display_data",
          "data": {
            "text/plain": [
              "<IPython.core.display.Javascript object>"
            ],
            "application/javascript": [
              "\n",
              "    async function download(id, filename, size) {\n",
              "      if (!google.colab.kernel.accessAllowed) {\n",
              "        return;\n",
              "      }\n",
              "      const div = document.createElement('div');\n",
              "      const label = document.createElement('label');\n",
              "      label.textContent = `Downloading \"${filename}\": `;\n",
              "      div.appendChild(label);\n",
              "      const progress = document.createElement('progress');\n",
              "      progress.max = size;\n",
              "      div.appendChild(progress);\n",
              "      document.body.appendChild(div);\n",
              "\n",
              "      const buffers = [];\n",
              "      let downloaded = 0;\n",
              "\n",
              "      const channel = await google.colab.kernel.comms.open(id);\n",
              "      // Send a message to notify the kernel that we're ready.\n",
              "      channel.send({})\n",
              "\n",
              "      for await (const message of channel.messages) {\n",
              "        // Send a message to notify the kernel that we're ready.\n",
              "        channel.send({})\n",
              "        if (message.buffers) {\n",
              "          for (const buffer of message.buffers) {\n",
              "            buffers.push(buffer);\n",
              "            downloaded += buffer.byteLength;\n",
              "            progress.value = downloaded;\n",
              "          }\n",
              "        }\n",
              "      }\n",
              "      const blob = new Blob(buffers, {type: 'application/binary'});\n",
              "      const a = document.createElement('a');\n",
              "      a.href = window.URL.createObjectURL(blob);\n",
              "      a.download = filename;\n",
              "      div.appendChild(a);\n",
              "      a.click();\n",
              "      div.remove();\n",
              "    }\n",
              "  "
            ]
          },
          "metadata": {}
        },
        {
          "output_type": "display_data",
          "data": {
            "text/plain": [
              "<IPython.core.display.Javascript object>"
            ],
            "application/javascript": [
              "download(\"download_aad08257-1050-4c1a-bd76-fa514a4aeec9\", \"mnisttorch.onnx\", 98902)"
            ]
          },
          "metadata": {}
        }
      ]
    },
    {
      "cell_type": "code",
      "source": [],
      "metadata": {
        "id": "CeyirABBExKb"
      },
      "execution_count": null,
      "outputs": []
    }
  ],
  "metadata": {
    "language_info": {
      "name": "python"
    },
    "colab": {
      "provenance": []
    },
    "kernelspec": {
      "name": "python3",
      "display_name": "Python 3"
    }
  },
  "nbformat": 4,
  "nbformat_minor": 0
}